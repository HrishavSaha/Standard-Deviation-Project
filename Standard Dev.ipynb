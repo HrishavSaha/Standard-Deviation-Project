{
  "nbformat": 4,
  "nbformat_minor": 0,
  "metadata": {
    "colab": {
      "name": "Untitled1.ipynb",
      "provenance": [],
      "authorship_tag": "ABX9TyM17EESnIzLYcIn83ac6Q/P",
      "include_colab_link": true
    },
    "kernelspec": {
      "name": "python3",
      "display_name": "Python 3"
    },
    "language_info": {
      "name": "python"
    }
  },
  "cells": [
    {
      "cell_type": "markdown",
      "metadata": {
        "id": "view-in-github",
        "colab_type": "text"
      },
      "source": [
        "<a href=\"https://colab.research.google.com/github/HrishavSaha/Standard-Deviation-Project/blob/main/Standard%20Dev.ipynb\" target=\"_parent\"><img src=\"https://colab.research.google.com/assets/colab-badge.svg\" alt=\"Open In Colab\"/></a>"
      ]
    },
    {
      "cell_type": "code",
      "execution_count": 1,
      "metadata": {
        "colab": {
          "base_uri": "https://localhost:8080/",
          "height": 235
        },
        "id": "PDzyboew7j-2",
        "outputId": "5e4f7902-0657-464d-cfdd-28b37fb44971"
      },
      "outputs": [
        {
          "output_type": "error",
          "ename": "FileNotFoundError",
          "evalue": "ignored",
          "traceback": [
            "\u001b[0;31m---------------------------------------------------------------------------\u001b[0m",
            "\u001b[0;31mFileNotFoundError\u001b[0m                         Traceback (most recent call last)",
            "\u001b[0;32m<ipython-input-1-e75c9ca57f5d>\u001b[0m in \u001b[0;36m<module>\u001b[0;34m()\u001b[0m\n\u001b[1;32m      3\u001b[0m \u001b[0;34m\u001b[0m\u001b[0m\n\u001b[1;32m      4\u001b[0m \u001b[0;31m#Opening and reading csv file\u001b[0m\u001b[0;34m\u001b[0m\u001b[0;34m\u001b[0m\u001b[0;34m\u001b[0m\u001b[0m\n\u001b[0;32m----> 5\u001b[0;31m \u001b[0;32mwith\u001b[0m \u001b[0mopen\u001b[0m\u001b[0;34m(\u001b[0m\u001b[0;34m\"data.csv\"\u001b[0m\u001b[0;34m,\u001b[0m \u001b[0mnewline\u001b[0m \u001b[0;34m=\u001b[0m \u001b[0;34m''\u001b[0m\u001b[0;34m)\u001b[0m \u001b[0;32mas\u001b[0m \u001b[0msheet\u001b[0m\u001b[0;34m:\u001b[0m\u001b[0;34m\u001b[0m\u001b[0;34m\u001b[0m\u001b[0m\n\u001b[0m\u001b[1;32m      6\u001b[0m   \u001b[0mreader\u001b[0m \u001b[0;34m=\u001b[0m \u001b[0mcsv\u001b[0m\u001b[0;34m.\u001b[0m\u001b[0mreader\u001b[0m\u001b[0;34m(\u001b[0m\u001b[0msheet\u001b[0m\u001b[0;34m)\u001b[0m\u001b[0;34m\u001b[0m\u001b[0;34m\u001b[0m\u001b[0m\n\u001b[1;32m      7\u001b[0m   \u001b[0many\u001b[0m \u001b[0;34m=\u001b[0m \u001b[0mlist\u001b[0m\u001b[0;34m(\u001b[0m\u001b[0mreader\u001b[0m\u001b[0;34m)\u001b[0m\u001b[0;34m\u001b[0m\u001b[0;34m\u001b[0m\u001b[0m\n",
            "\u001b[0;31mFileNotFoundError\u001b[0m: [Errno 2] No such file or directory: 'data.csv'"
          ]
        }
      ],
      "source": [
        "#Importing necessary modules\n",
        "import csv\n",
        "\n",
        "#Opening and reading csv file\n",
        "with open(\"data.csv\", newline = '') as sheet: \n",
        "  reader = csv.reader(sheet) \n",
        "  any = list(reader)\n",
        "\n",
        "#Initialising variables\n",
        "new = []\n",
        "\n",
        "#Setting up the data list\n",
        "for val in any[0]:\n",
        "  new.append(float(val))\n",
        "\n",
        "#Initialising variables for mathematical calculations\n",
        "freq = len(new)\n",
        "sum_sq_dev = 0\n",
        "sum = 0\n",
        "\n",
        "#Calculation of Mean\n",
        "for val in new:\n",
        "  #Summation of all observations\n",
        "  sum += val  \n",
        "#Division by number of observations\n",
        "freq = len(new)\n",
        "mean = sum/freq\n",
        "\n",
        "#Calculation of standard Deviation\n",
        "for val in new:\n",
        "  #Calculating deviation from the mean\n",
        "  dev = val - mean\n",
        "  #Squaring the deviation from the mean\n",
        "  sq_dev = dev ** 2\n",
        "  #Summation of all the squared devation from the mean\n",
        "  sum_sq_dev += sq_dev\n",
        "#Division by (n-1)\n",
        "div = sum_sq_dev/(freq-1)\n",
        "#Square root of the quotient\n",
        "std_dev = div ** 0.5\n",
        "\n",
        "#Printing the standard deviation\n",
        "print(\"Standard Deviation = \",std_dev)"
      ]
    }
  ]
}